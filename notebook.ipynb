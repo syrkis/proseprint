{
 "cells": [
  {
   "attachments": {},
   "cell_type": "markdown",
   "metadata": {},
   "source": [
    "# Multi Author Writing Style Analysis\n",
    "by: Noah Syrkis\n",
    "\n",
    "\n",
    "As a writer, I have always been interested in the idea of a \"writing style\".\n",
    "I have always wondered if there was a way to quantify the style of a writer, and if so, how would one go about doing so?\n",
    "This project is an attempt to build a model that does precisely that."
   ]
  },
  {
   "cell_type": "code",
   "execution_count": 1,
   "metadata": {},
   "outputs": [],
   "source": [
    "from sentence_transformers import SentenceTransformer\n",
    "from collections import Counter\n",
    "import numpy as np\n",
    "import random\n",
    "import pickle\n",
    "import torch\n",
    "from tqdm import tqdm\n",
    "from functools import partial\n",
    "from sklearn.metrics import f1_score\n",
    "from src.utils import get_data"
   ]
  },
  {
   "attachments": {},
   "cell_type": "markdown",
   "metadata": {},
   "source": [
    "## data"
   ]
  },
  {
   "cell_type": "code",
   "execution_count": 2,
   "metadata": {},
   "outputs": [],
   "source": [
    "# model = SentenceTransformer('all-MiniLM-L6-v2')\n",
    "# data = { str(i): get_data(i, model.encode) for i in range(1, 4) }\n",
    "# pickle.dump(data, open('data/data.pkl', 'wb'))\n",
    "data = pickle.load(open('data/data.pkl', 'rb'))\n"
   ]
  },
  {
   "cell_type": "code",
   "execution_count": 3,
   "metadata": {},
   "outputs": [],
   "source": [
    "def paired_samples(data_split):\n",
    "    \"\"\"turns data set into pair of consectuve sentences (flattens multi paragraph samples into pairs)\"\"\"\n",
    "    pairs = []\n",
    "    for problem_id in data_split.keys():\n",
    "        texts = data_split[problem_id]['text']\n",
    "        targets = data_split[problem_id]['truth']['changes']\n",
    "        if len(texts) - 1 != len(targets):\n",
    "            # TODO: fix. a few of the samples have more than one paragraph, making .readlines() wrong\n",
    "            # print(f'problem {problem_id} has {len(texts)} texts and {len(targets)} targets')\n",
    "            continue\n",
    "        for target, text1, text2 in zip(targets, texts[:-1], texts[1:]):\n",
    "            pairs.append((text1, text2, target))\n",
    "    random.shuffle(pairs)\n",
    "    return pairs"
   ]
  },
  {
   "attachments": {},
   "cell_type": "markdown",
   "metadata": {},
   "source": [
    "## exploration"
   ]
  },
  {
   "attachments": {},
   "cell_type": "markdown",
   "metadata": {},
   "source": [
    "We explore the data using the paired approach and see that,\n",
    "the data is unbalanced in dataset 1,\n",
    "but well balanced in datasets 2 and 3:"
   ]
  },
  {
   "cell_type": "code",
   "execution_count": 4,
   "metadata": {},
   "outputs": [
    {
     "name": "stdout",
     "output_type": "stream",
     "text": [
      "dataset 1\n",
      "train: Counter({1: 11340, 0: 1554})\n",
      "valid: Counter({1: 2449, 0: 377})\n",
      "\n",
      "dataset 2\n",
      "train: Counter({0: 15001, 1: 13215})\n",
      "valid: Counter({0: 3994, 1: 3019})\n",
      "\n",
      "dataset 3\n",
      "train: Counter({0: 10087, 1: 9017})\n",
      "valid: Counter({0: 2159, 1: 1953})\n",
      "\n"
     ]
    }
   ],
   "source": [
    "for dataset_id in range(1, 4):\n",
    "    print(f'dataset {dataset_id}')\n",
    "    train_pairs = paired_samples(data[str(dataset_id)]['train'])\n",
    "    valid_pairs = paired_samples(data[str(dataset_id)]['validation'])\n",
    "    print(f'train: {Counter([p[2] for p in train_pairs])}')\n",
    "    print(f'valid: {Counter([p[2] for p in valid_pairs])}')\n",
    "    print()"
   ]
  },
  {
   "attachments": {},
   "cell_type": "markdown",
   "metadata": {},
   "source": [
    "## models"
   ]
  },
  {
   "cell_type": "code",
   "execution_count": 27,
   "metadata": {},
   "outputs": [
    {
     "name": "stdout",
     "output_type": "stream",
     "text": [
      "baseline f1 score on train: 0.6379281214549491\n"
     ]
    }
   ],
   "source": [
    "def get_batches(pairs, batch_size):\n",
    "    while True:\n",
    "        perm = np.random.permutation(len(pairs))\n",
    "        for i in range(0, len(pairs), batch_size):\n",
    "            batch = [pairs[j] for j in perm[i:i+batch_size]]\n",
    "            x1, x2, y = zip(*batch)\n",
    "            yield x1, x2, y"
   ]
  },
  {
   "cell_type": "code",
   "execution_count": null,
   "metadata": {},
   "outputs": [],
   "source": []
  }
 ],
 "metadata": {
  "kernelspec": {
   "display_name": "Python 3 (ipykernel)",
   "language": "python",
   "name": "python3"
  },
  "language_info": {
   "codemirror_mode": {
    "name": "ipython",
    "version": 3
   },
   "file_extension": ".py",
   "mimetype": "text/x-python",
   "name": "python",
   "nbconvert_exporter": "python",
   "pygments_lexer": "ipython3",
   "version": "3.9.17"
  },
  "orig_nbformat": 4
 },
 "nbformat": 4,
 "nbformat_minor": 2
}
